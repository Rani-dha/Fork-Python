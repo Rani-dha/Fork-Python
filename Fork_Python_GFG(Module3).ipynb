{
  "nbformat": 4,
  "nbformat_minor": 0,
  "metadata": {
    "colab": {
      "name": "Fork-Python-GFG(Module3).ipynb",
      "provenance": [],
      "authorship_tag": "ABX9TyN3H+WWuc1KX5re8y/tA+Oz",
      "include_colab_link": true
    },
    "kernelspec": {
      "name": "python3",
      "display_name": "Python 3"
    }
  },
  "cells": [
    {
      "cell_type": "markdown",
      "metadata": {
        "id": "view-in-github",
        "colab_type": "text"
      },
      "source": [
        "<a href=\"https://colab.research.google.com/github/Rani-dha/Python/blob/master/Fork_Python_GFG(Module3).ipynb\" target=\"_parent\"><img src=\"https://colab.research.google.com/assets/colab-badge.svg\" alt=\"Open In Colab\"/></a>"
      ]
    },
    {
      "cell_type": "code",
      "metadata": {
        "id": "MV0uqn7E_NIi"
      },
      "source": [
        "# Module3 - Strings \n",
        "''' Topics covered:\n",
        "      * Using strings\n",
        "      * Inbuilt functions in String.\n",
        "      * String manipulation\n",
        "      * Regular Expressions '''"
      ],
      "execution_count": null,
      "outputs": []
    }
  ]
}