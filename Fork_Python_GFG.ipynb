{
  "nbformat": 4,
  "nbformat_minor": 0,
  "metadata": {
    "colab": {
      "name": "Fork-Python-GFG.ipynb",
      "provenance": [],
      "authorship_tag": "ABX9TyPIvWGWMHcnelgLWbAW1q8O",
      "include_colab_link": true
    },
    "kernelspec": {
      "name": "python3",
      "display_name": "Python 3"
    }
  },
  "cells": [
    {
      "cell_type": "markdown",
      "metadata": {
        "id": "view-in-github",
        "colab_type": "text"
      },
      "source": [
        "<a href=\"https://colab.research.google.com/github/Rani-dha/Fork-Python/blob/master/Fork_Python_GFG.ipynb\" target=\"_parent\"><img src=\"https://colab.research.google.com/assets/colab-badge.svg\" alt=\"Open In Colab\"/></a>"
      ]
    },
    {
      "cell_type": "code",
      "metadata": {
        "id": "Q2gsCRs1jeaZ",
        "outputId": "cdc494eb-b03c-4bd6-c3c7-32a708182666",
        "colab": {
          "base_uri": "https://localhost:8080/",
          "height": 35
        }
      },
      "source": [
        "#Module1 - Python Basics\n",
        "#1)Start Coding - Python\n",
        "\n",
        "def print_fun():\n",
        "    print(\"Hello World\")\n",
        "    # Please follow proper indentation\n",
        "\n",
        "def main():\n",
        "    print_fun()\n",
        "\n",
        "if __name__ == '__main__':\n",
        "    main()"
      ],
      "execution_count": 2,
      "outputs": [
        {
          "output_type": "stream",
          "text": [
            "Hello World\n"
          ],
          "name": "stdout"
        }
      ]
    }
  ]
}