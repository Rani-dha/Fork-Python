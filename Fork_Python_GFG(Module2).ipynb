{
  "nbformat": 4,
  "nbformat_minor": 0,
  "metadata": {
    "colab": {
      "name": "Fork-Python-GFG(Module2).ipynb",
      "provenance": [],
      "authorship_tag": "ABX9TyMi9IiHJMhRQYC30GySeJs5",
      "include_colab_link": true
    },
    "kernelspec": {
      "name": "python3",
      "display_name": "Python 3"
    }
  },
  "cells": [
    {
      "cell_type": "markdown",
      "metadata": {
        "id": "view-in-github",
        "colab_type": "text"
      },
      "source": [
        "<a href=\"https://colab.research.google.com/github/Rani-dha/Python/blob/master/Fork_Python_GFG(Module2).ipynb\" target=\"_parent\"><img src=\"https://colab.research.google.com/assets/colab-badge.svg\" alt=\"Open In Colab\"/></a>"
      ]
    },
    {
      "cell_type": "code",
      "metadata": {
        "id": "sHKEwzNL7FWV",
        "outputId": "831744b5-bc25-4b11-b22b-52cb8c94b494",
        "colab": {
          "base_uri": "https://localhost:8080/",
          "height": 107
        }
      },
      "source": [
        "# Module2 - Control Structures\n",
        " ''' Topics covered:\n",
        "        * If else\n",
        "        * Loops\n",
        "        * Logic Building '''\n",
        "        \n",
        "# 1) If conditional statement- Python \n",
        "''' Question : There are two friends, John and Smith, and the parameters j_angry and s_angry to indicate if each is angry.\n",
        "You are in trouble if both of them are angry or no one of them is angry.\n",
        "Now, complete the function which returns true if you are in trouble, else return false. '''\n",
        "\n",
        "# Function to print True and False for required input\n",
        "def friends_in_trouble(a_angry, b_angry):\n",
        "    if a_angry==True and b_angry==True:\n",
        "        return True\n",
        "    elif a_angry==False and b_angry==False:\n",
        "        return True  \n",
        "    else:\n",
        "        return False\n",
        "\n",
        "def main():\n",
        "    testcase = int(input())\n",
        "    \n",
        "    \n",
        "    while(testcase > 0):\n",
        "        string = input().split()\n",
        "        string1 = string[0]\n",
        "        string2 = string[1]\n",
        "        if(string1 == 'True'):\n",
        "            string1 = True\n",
        "        else:\n",
        "            string1 = False\n",
        "        \n",
        "        if(string2 == 'True'):\n",
        "            string2 = True\n",
        "        else:\n",
        "            string2 = False\n",
        "            \n",
        "        print(friends_in_trouble(string1, string2))        \n",
        "        testcase -= 1\n",
        "    \n",
        "if __name__ == '__main__':\n",
        "    main()\n"
      ],
      "execution_count": null,
      "outputs": [
        {
          "output_type": "stream",
          "text": [
            "2\n",
            "True False\n",
            "False\n",
            "True True\n",
            "True\n"
          ],
          "name": "stdout"
        }
      ]
    },
    {
      "cell_type": "code",
      "metadata": {
        "id": "t-7igzd46wjO",
        "outputId": "ad0c35ef-9f28-48c8-aeb2-6f77383b1d2e",
        "colab": {
          "base_uri": "https://localhost:8080/",
          "height": 108
        }
      },
      "source": [
        "# 2) Mark Even and Odd\n",
        "\n",
        "def checkOddEven(x):\n",
        "    if(x % 2 == 0):\n",
        "      # Complete the statement below\n",
        "      return True\n",
        "    else:\n",
        "      # Complete the statement below\n",
        "      return False\n",
        "\n",
        "def main():\n",
        "    testcases = int(input())    \n",
        "    while(testcases > 0):\n",
        "        x = int(input())\n",
        "        if(checkOddEven(x)):\n",
        "            print (\"Even\")\n",
        "        else:\n",
        "            print (\"Odd\")\n",
        "        testcases -= 1\n",
        " \n",
        "if __name__ == '__main__':\n",
        "    main()"
      ],
      "execution_count": null,
      "outputs": [
        {
          "output_type": "stream",
          "text": [
            "2\n",
            "5\n",
            "Odd\n",
            "90\n",
            "Even\n"
          ],
          "name": "stdout"
        }
      ]
    },
    {
      "cell_type": "code",
      "metadata": {
        "id": "P02Pqa1j9zJL",
        "outputId": "d8afd67b-0d00-4b0a-bcc4-b2c4d53ba941",
        "colab": {
          "base_uri": "https://localhost:8080/",
          "height": 108
        }
      },
      "source": [
        "# 3) Check the status\n",
        "\n",
        "# Function to check value and \n",
        "# return accordingly\n",
        "def check_status(a, b, status):\n",
        "    ##Your code here\n",
        "    ##Either True or False is returned\n",
        "    if(a>0 and b>0) and status== False:\n",
        "        return False\n",
        "    elif(a>0 or b>0) and status== False:\n",
        "        return True\n",
        "    elif status== True and (a<0 and b<0):\n",
        "        return True\n",
        "    else:\n",
        "        return False\n",
        "\n",
        "def main():\n",
        "    # Testcase input\n",
        "    testcases = int(input())\n",
        "    \n",
        "    # Looping through testcases\n",
        "    while(testcases > 0):\n",
        "        a = int(input())\n",
        "        b = int(input())\n",
        "        flag = input()\n",
        "        \n",
        "        if(flag == \"True\"):\n",
        "            flag = True\n",
        "        else:\n",
        "            flag = False\n",
        "        \n",
        "        if(check_status(a, b, flag) is True):\n",
        "            print(\"True\")\n",
        "        else:\n",
        "            print(\"False\")\n",
        "        \n",
        "        testcases -= 1\n",
        " \n",
        "if __name__ == '__main__':\n",
        "    main()"
      ],
      "execution_count": 1,
      "outputs": [
        {
          "output_type": "stream",
          "text": [
            "1\n",
            "1\n",
            "-1\n",
            "False\n",
            "True\n"
          ],
          "name": "stdout"
        }
      ]
    },
    {
      "cell_type": "code",
      "metadata": {
        "id": "Ud3qZCEF382x",
        "outputId": "32a8089d-8d17-432a-b440-6ca93bcdf3ca",
        "colab": {
          "base_uri": "https://localhost:8080/",
          "height": 144
        }
      },
      "source": [
        "# 4) For loop\n",
        "\n",
        "def multiplicationTable(N):## in is a membership operator that is true if something is a member of sequence\n",
        "    for i in range(1,11): ## i in range(x,y,z) means i goes from x to y-1 and increments z steps in each iteration\n",
        "        print(i*N, end=\" \") ## Separating by spaces using end =\" \"\n",
        "def main():\n",
        "    testcases=int(input()) #testcases\n",
        "    while(testcases>0):\n",
        "        numbah=int(input())\n",
        "        multiplicationTable(numbah)\n",
        "        print()\n",
        "        testcases-=1\n",
        "        \n",
        "if __name__=='__main__':\n",
        "    main()"
      ],
      "execution_count": 2,
      "outputs": [
        {
          "output_type": "stream",
          "text": [
            "3\n",
            "2\n",
            "2 4 6 8 10 12 14 16 18 20 \n",
            "7\n",
            "7 14 21 28 35 42 49 56 63 70 \n",
            "9\n",
            "9 18 27 36 45 54 63 72 81 90 \n"
          ],
          "name": "stdout"
        }
      ]
    },
    {
      "cell_type": "code",
      "metadata": {
        "id": "c91LN2lG4haA",
        "outputId": "a70c3a02-6dfd-4b49-e758-4f10d6fdb5ea",
        "colab": {
          "base_uri": "https://localhost:8080/",
          "height": 108
        }
      },
      "source": [
        "# 5) For Loop 2\n",
        "\n",
        "def stringJumper(str):\n",
        "    for i in range(0,len(str),2): ## from 0 to length of str and skip 2\n",
        "        print(str[i], end=\"\") ##printing character and separating characters by nothing\n",
        "\n",
        "def main():\n",
        "    testcases=int(input()) #testcases\n",
        "    while(testcases>0):\n",
        "        mystr=(input())\n",
        "        stringJumper(mystr)\n",
        "        print()##separating testcases outputs by newlines\n",
        "        testcases-=1\n",
        "        \n",
        "if __name__=='__main__':\n",
        "    main()\n"
      ],
      "execution_count": 3,
      "outputs": [
        {
          "output_type": "stream",
          "text": [
            "2\n",
            "GeeksForGeeks\n",
            "GesoGes\n",
            "DoctorPhenomenal\n",
            "DcoPeoea\n"
          ],
          "name": "stdout"
        }
      ]
    },
    {
      "cell_type": "code",
      "metadata": {
        "id": "se-av0MK8eLF",
        "outputId": "7e1491ac-86fb-417f-b392-7cdccbde9f85",
        "colab": {
          "base_uri": "https://localhost:8080/",
          "height": 144
        }
      },
      "source": [
        "# 6) While loop Python\n",
        "\n",
        "# Function to print x in decreasing order\n",
        "def printInDecreasing(x):\n",
        "    while(x >= 0):\n",
        "        print(x,end=' ')\n",
        "        x -= 1\n",
        "\n",
        "def main():\n",
        "    testcases = int(input())\n",
        "    while(testcases > 0):\n",
        "        x = int(input())\n",
        "        printInDecreasing(x);\n",
        "        print ()\n",
        "        testcases -= 1\n",
        " \n",
        "if __name__ == '__main__':\n",
        "    main()"
      ],
      "execution_count": 4,
      "outputs": [
        {
          "output_type": "stream",
          "text": [
            "3\n",
            "9\n",
            "9 8 7 6 5 4 3 2 1 0 \n",
            "8\n",
            "8 7 6 5 4 3 2 1 0 \n",
            "7\n",
            "7 6 5 4 3 2 1 0 \n"
          ],
          "name": "stdout"
        }
      ]
    },
    {
      "cell_type": "code",
      "metadata": {
        "id": "oAmgsy3f9sPu",
        "outputId": "b409ba5c-10fb-4cfe-c392-dda388fd9c64",
        "colab": {
          "base_uri": "https://localhost:8080/",
          "height": 108
        }
      },
      "source": [
        "# 7) Jumping through While\n",
        "\n",
        "# Function to print x in increasing order\n",
        "def printIncreasingPower(x):\n",
        "    num=1\n",
        "    square=num **2\n",
        "    while(square<=x):\n",
        "        print(square, end=' ')\n",
        "        num =num+1\n",
        "        square=num **2\n",
        "    \n",
        "def main():\n",
        "    \n",
        "    testcases = int(input())\n",
        "    while(testcases > 0):\n",
        "      x = int(input())        \n",
        "      printIncreasingPower(x);\n",
        "      print ()\n",
        "      testcases -= 1\n",
        " \n",
        "if __name__ == '__main__':\n",
        "    main()"
      ],
      "execution_count": 5,
      "outputs": [
        {
          "output_type": "stream",
          "text": [
            "2\n",
            "100\n",
            "1 4 9 16 25 36 49 64 81 100 \n",
            "10\n",
            "1 4 9 \n"
          ],
          "name": "stdout"
        }
      ]
    },
    {
      "cell_type": "code",
      "metadata": {
        "id": "9uSrHoMJ-lwL",
        "outputId": "e65a605e-15ba-4c29-9de7-ea89998b9037",
        "colab": {
          "base_uri": "https://localhost:8080/",
          "height": 237
        }
      },
      "source": [
        "# 8) Zero Convertor\n",
        "\n",
        "def pos(n):\n",
        "  for  i in range(n-1,-1,-1):\n",
        "    print(i, end=' ')\n",
        "    \n",
        "def neg(n):\n",
        "  for j in range(n,1,+1):\n",
        "    print(j,end=' ')\n",
        "\n",
        "def main():\n",
        "    testcases=int(input()) \n",
        "    while(testcases>0):\n",
        "        numbah=int(input())\n",
        "        if(numbah>0):\n",
        "            pos(numbah)\n",
        "        elif(numbah<0):\n",
        "            neg(numbah)\n",
        "        else:\n",
        "            print(\"Already Zero\",end=\"\")\n",
        "        print()\n",
        "        testcases-=1\n",
        "        \n",
        "if __name__=='__main__':\n",
        "    main()"
      ],
      "execution_count": 6,
      "outputs": [
        {
          "output_type": "stream",
          "text": [
            "5\n",
            "7\n",
            "6 5 4 3 2 1 0 \n",
            "-7\n",
            "-7 -6 -5 -4 -3 -2 -1 0 \n",
            "0\n",
            "Already Zero\n",
            "100\n",
            "99 98 97 96 95 94 93 92 91 90 89 88 87 86 85 84 83 82 81 80 79 78 77 76 75 74 73 72 71 70 69 68 67 66 65 64 63 62 61 60 59 58 57 56 55 54 53 52 51 50 49 48 47 46 45 44 43 42 41 40 39 38 37 36 35 34 33 32 31 30 29 28 27 26 25 24 23 22 21 20 19 18 17 16 15 14 13 12 11 10 9 8 7 6 5 4 3 2 1 0 \n",
            "-100\n",
            "-100 -99 -98 -97 -96 -95 -94 -93 -92 -91 -90 -89 -88 -87 -86 -85 -84 -83 -82 -81 -80 -79 -78 -77 -76 -75 -74 -73 -72 -71 -70 -69 -68 -67 -66 -65 -64 -63 -62 -61 -60 -59 -58 -57 -56 -55 -54 -53 -52 -51 -50 -49 -48 -47 -46 -45 -44 -43 -42 -41 -40 -39 -38 -37 -36 -35 -34 -33 -32 -31 -30 -29 -28 -27 -26 -25 -24 -23 -22 -21 -20 -19 -18 -17 -16 -15 -14 -13 -12 -11 -10 -9 -8 -7 -6 -5 -4 -3 -2 -1 0 \n"
          ],
          "name": "stdout"
        }
      ]
    }
  ]
}