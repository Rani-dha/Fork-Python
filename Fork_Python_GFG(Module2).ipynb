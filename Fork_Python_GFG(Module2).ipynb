{
  "nbformat": 4,
  "nbformat_minor": 0,
  "metadata": {
    "colab": {
      "name": "Fork-Python-GFG(Module2).ipynb",
      "provenance": [],
      "authorship_tag": "ABX9TyO2GRLgcDDvE1LC1dAzTbiU",
      "include_colab_link": true
    },
    "kernelspec": {
      "name": "python3",
      "display_name": "Python 3"
    }
  },
  "cells": [
    {
      "cell_type": "markdown",
      "metadata": {
        "id": "view-in-github",
        "colab_type": "text"
      },
      "source": [
        "<a href=\"https://colab.research.google.com/github/Rani-dha/Python/blob/master/Fork_Python_GFG(Module2).ipynb\" target=\"_parent\"><img src=\"https://colab.research.google.com/assets/colab-badge.svg\" alt=\"Open In Colab\"/></a>"
      ]
    },
    {
      "cell_type": "code",
      "metadata": {
        "id": "sHKEwzNL7FWV",
        "outputId": "831744b5-bc25-4b11-b22b-52cb8c94b494",
        "colab": {
          "base_uri": "https://localhost:8080/",
          "height": 107
        }
      },
      "source": [
        " # Module2 - Control Structures\n",
        " ''' Topics covered:\n",
        "        * If else\n",
        "        * Loops\n",
        "        * Logic Building '''\n",
        "        \n",
        "# 1) If conditional statement- Python \n",
        "''' Question : There are two friends, John and Smith, and the parameters j_angry and s_angry to indicate if each is angry.\n",
        "You are in trouble if both of them are angry or no one of them is angry.\n",
        "Now, complete the function which returns true if you are in trouble, else return false. '''\n",
        "\n",
        "# Function to print True and False for required input\n",
        "def friends_in_trouble(a_angry, b_angry):\n",
        "    if a_angry==True and b_angry==True:\n",
        "        return True\n",
        "    elif a_angry==False and b_angry==False:\n",
        "        return True  \n",
        "    else:\n",
        "        return False\n",
        "\n",
        "def main():\n",
        "    testcase = int(input())\n",
        "    \n",
        "    \n",
        "    while(testcase > 0):\n",
        "        string = input().split()\n",
        "        string1 = string[0]\n",
        "        string2 = string[1]\n",
        "        if(string1 == 'True'):\n",
        "            string1 = True\n",
        "        else:\n",
        "            string1 = False\n",
        "        \n",
        "        if(string2 == 'True'):\n",
        "            string2 = True\n",
        "        else:\n",
        "            string2 = False\n",
        "            \n",
        "        print(friends_in_trouble(string1, string2))        \n",
        "        testcase -= 1\n",
        "    \n",
        "if __name__ == '__main__':\n",
        "    main()\n"
      ],
      "execution_count": 1,
      "outputs": [
        {
          "output_type": "stream",
          "text": [
            "2\n",
            "True False\n",
            "False\n",
            "True True\n",
            "True\n"
          ],
          "name": "stdout"
        }
      ]
    }
  ]
}