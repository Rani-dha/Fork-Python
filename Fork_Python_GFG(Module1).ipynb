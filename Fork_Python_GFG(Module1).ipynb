{
  "nbformat": 4,
  "nbformat_minor": 0,
  "metadata": {
    "colab": {
      "name": "Fork-Python-GFG(Module1).ipynb",
      "provenance": [],
      "authorship_tag": "ABX9TyN6vZAhEA+3rj0xPhnQTKCM",
      "include_colab_link": true
    },
    "kernelspec": {
      "name": "python3",
      "display_name": "Python 3"
    }
  },
  "cells": [
    {
      "cell_type": "markdown",
      "metadata": {
        "id": "view-in-github",
        "colab_type": "text"
      },
      "source": [
        "<a href=\"https://colab.research.google.com/github/Rani-dha/Fork-Python/blob/master/Fork_Python_GFG(Module1).ipynb\" target=\"_parent\"><img src=\"https://colab.research.google.com/assets/colab-badge.svg\" alt=\"Open In Colab\"/></a>"
      ]
    },
    {
      "cell_type": "code",
      "metadata": {
        "id": "Q2gsCRs1jeaZ",
        "outputId": "659ba8a0-39af-4531-a38d-2c61c06a6c00",
        "colab": {
          "base_uri": "https://localhost:8080/",
          "height": 35
        }
      },
      "source": [
        "#Module1 - Python Basics\n",
        "#1)Start Coding - Python\n",
        "\n",
        "def print_fun():\n",
        "    print(\"Hello World\")\n",
        "   \n",
        "def main():\n",
        "    print_fun()\n",
        "\n",
        "if __name__ == '__main__':\n",
        "    main()"
      ],
      "execution_count": 4,
      "outputs": [
        {
          "output_type": "stream",
          "text": [
            "Hello World\n"
          ],
          "name": "stdout"
        }
      ]
    },
    {
      "cell_type": "code",
      "metadata": {
        "id": "9C_CaieClm5a",
        "outputId": "b58806f6-67c3-4b10-d8e7-064c27ea6d01",
        "colab": {
          "base_uri": "https://localhost:8080/",
          "height": 35
        }
      },
      "source": [
        "#2)Space Seperated - Python\n",
        "\n",
        "def print_fun():\n",
        "   print(\"Geeks\", \"For\", \"Geeks\",sep=' ')\n",
        "\n",
        "def main():\n",
        "    print_fun()\n",
        "\n",
        "if __name__ == '__main__':\n",
        "    main()\n"
      ],
      "execution_count": 6,
      "outputs": [
        {
          "output_type": "stream",
          "text": [
            "Geeks For Geeks\n"
          ],
          "name": "stdout"
        }
      ]
    },
    {
      "cell_type": "code",
      "metadata": {
        "id": "mTc5RCm-mI8K",
        "outputId": "2af71701-cefe-491d-e33a-c2e18b4180b3",
        "colab": {
          "base_uri": "https://localhost:8080/",
          "height": 35
        }
      },
      "source": [
        "#sep and end in Print()\n",
        "\n",
        "def print_func(string1, string2):\n",
        "    print (string1, string2, string1, sep = '$', end = '$')\n",
        "\n",
        "def main():\n",
        "    string1 = \"Geeks\"\n",
        "    string2 = \"For\"\n",
        "    print_func(string1, string2)\n",
        "    print()\n",
        "\n",
        "if __name__ == \"__main__\":\n",
        "    main()\n"
      ],
      "execution_count": 8,
      "outputs": [
        {
          "output_type": "stream",
          "text": [
            "Geeks$For$Geeks$\n"
          ],
          "name": "stdout"
        }
      ]
    }
  ]
}