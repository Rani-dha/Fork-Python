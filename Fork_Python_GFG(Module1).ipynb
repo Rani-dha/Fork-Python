{
  "nbformat": 4,
  "nbformat_minor": 0,
  "metadata": {
    "colab": {
      "name": "Fork-Python-GFG(Module1).ipynb",
      "provenance": [],
      "collapsed_sections": [],
      "authorship_tag": "ABX9TyOfrFyZavTu+9UGrZpFnfAv",
      "include_colab_link": true
    },
    "kernelspec": {
      "name": "python3",
      "display_name": "Python 3"
    }
  },
  "cells": [
    {
      "cell_type": "markdown",
      "metadata": {
        "id": "view-in-github",
        "colab_type": "text"
      },
      "source": [
        "<a href=\"https://colab.research.google.com/github/Rani-dha/Fork-Python/blob/master/Fork_Python_GFG(Module1).ipynb\" target=\"_parent\"><img src=\"https://colab.research.google.com/assets/colab-badge.svg\" alt=\"Open In Colab\"/></a>"
      ]
    },
    {
      "cell_type": "code",
      "metadata": {
        "id": "Q2gsCRs1jeaZ",
        "outputId": "659ba8a0-39af-4531-a38d-2c61c06a6c00",
        "colab": {
          "base_uri": "https://localhost:8080/",
          "height": 35
        }
      },
      "source": [
        "# Module1 - Python Basics\n",
        "# 1)Start Coding - Python\n",
        "\n",
        "def print_fun():\n",
        "    print(\"Hello World\")\n",
        "   \n",
        "def main():\n",
        "    print_fun()\n",
        "\n",
        "if __name__ == '__main__':\n",
        "    main()"
      ],
      "execution_count": null,
      "outputs": [
        {
          "output_type": "stream",
          "text": [
            "Hello World\n"
          ],
          "name": "stdout"
        }
      ]
    },
    {
      "cell_type": "code",
      "metadata": {
        "id": "9C_CaieClm5a",
        "outputId": "b58806f6-67c3-4b10-d8e7-064c27ea6d01",
        "colab": {
          "base_uri": "https://localhost:8080/",
          "height": 35
        }
      },
      "source": [
        "# 2)Space Seperated - Python\n",
        "\n",
        "def print_fun():\n",
        "   print(\"Geeks\", \"For\", \"Geeks\",sep=' ')\n",
        "\n",
        "def main():\n",
        "    print_fun()\n",
        "\n",
        "if __name__ == '__main__':\n",
        "    main()\n"
      ],
      "execution_count": null,
      "outputs": [
        {
          "output_type": "stream",
          "text": [
            "Geeks For Geeks\n"
          ],
          "name": "stdout"
        }
      ]
    },
    {
      "cell_type": "code",
      "metadata": {
        "id": "mTc5RCm-mI8K",
        "outputId": "d9b3cf76-348c-41f1-cfbf-a99ee6747624",
        "colab": {
          "base_uri": "https://localhost:8080/",
          "height": 35
        }
      },
      "source": [
        "# 3)sep and end in Print()\n",
        "\n",
        "def print_func(string1, string2):\n",
        "    print (string1, string2, string1, sep = '$', end = '$')\n",
        "\n",
        "def main():\n",
        "    string1 = \"Geeks\"\n",
        "    string2 = \"For\"\n",
        "    print_func(string1, string2)\n",
        "  \n",
        "if __name__ == \"__main__\":\n",
        "    main()\n"
      ],
      "execution_count": null,
      "outputs": [
        {
          "output_type": "stream",
          "text": [
            "Geeks$For$Geeks$"
          ],
          "name": "stdout"
        }
      ]
    },
    {
      "cell_type": "code",
      "metadata": {
        "id": "8PpC-_JzoqM5",
        "outputId": "79d0914e-e8da-4724-e7eb-eb2ab129cf2a",
        "colab": {
          "base_uri": "https://localhost:8080/",
          "height": 89
        }
      },
      "source": [
        "# 4)Repetitive Printing - Python\n",
        "\n",
        "def print_fun(string, x):\n",
        "    print(string*x)\n",
        "\n",
        "def main():\n",
        "    testcases = int(input())\n",
        "    while(testcases > 0):\n",
        "        string = input()\n",
        "        x = int(input())\n",
        "        print_fun(string, x)\n",
        "        testcases -= 1\n",
        "\n",
        "if __name__ == '__main__':\n",
        "    main()\n",
        "    "
      ],
      "execution_count": null,
      "outputs": [
        {
          "output_type": "stream",
          "text": [
            "1\n",
            "Programmer\n",
            "10\n",
            "ProgrammerProgrammerProgrammerProgrammerProgrammerProgrammerProgrammerProgrammerProgrammerProgrammer\n"
          ],
          "name": "stdout"
        }
      ]
    },
    {
      "cell_type": "code",
      "metadata": {
        "id": "A7LOWKWopl5J",
        "outputId": "a65620cd-408a-45ce-d68f-d9fb483bb232",
        "colab": {
          "base_uri": "https://localhost:8080/",
          "height": 89
        }
      },
      "source": [
        "# 5)Concatenating Strings - Python\n",
        "\n",
        "def print_fun(string1, string2):\n",
        "    print (string1+string2)\n",
        "\n",
        "def main():\n",
        "    testcases = int(input())\n",
        "    \n",
        "    while(testcases > 0):\n",
        "        string1 = input()\n",
        "        string2 = input()\n",
        "        print_fun(string1, string2)\n",
        "        testcases -= 1\n",
        "\n",
        "if __name__ == '__main__':\n",
        "    main()\n",
        "    \n"
      ],
      "execution_count": null,
      "outputs": [
        {
          "output_type": "stream",
          "text": [
            "1\n",
            "Dharani \n",
            "Thangavel\n",
            "Dharani Thangavel\n"
          ],
          "name": "stdout"
        }
      ]
    },
    {
      "cell_type": "code",
      "metadata": {
        "id": "ralylA1DqT7S",
        "outputId": "5a4d528c-4c45-4eac-94ed-98169f376e73",
        "colab": {
          "base_uri": "https://localhost:8080/",
          "height": 179
        }
      },
      "source": [
        "# 6)Taking input and typecasting\n",
        "\n",
        "def inPut():\n",
        "    a = int(input()) ## a is integer\n",
        "    b = input() ##b is string\n",
        "    c = float(input()) ## c is float\n",
        "    d = bool(input()) ## d is a boolean\n",
        "    \n",
        "    print(a, type(a))\n",
        "    print(b, type(b))\n",
        "    print(c, type(c))\n",
        "    print(d, type(d))\n",
        "\n",
        "def main():\n",
        "    testcases=int(input()) \n",
        "    while(testcases>0):\n",
        "        inPut() #the function that gets things done\n",
        "        testcases-=1\n",
        "        \n",
        "if __name__=='__main__':\n",
        "    main()\n"
      ],
      "execution_count": null,
      "outputs": [
        {
          "output_type": "stream",
          "text": [
            "1\n",
            "11\n",
            "Siva\n",
            "11.11\n",
            "1\n",
            "11 <class 'int'>\n",
            "Siva <class 'str'>\n",
            "11.11 <class 'float'>\n",
            "True <class 'bool'>\n"
          ],
          "name": "stdout"
        }
      ]
    },
    {
      "cell_type": "code",
      "metadata": {
        "id": "inQIECFUrqoh",
        "outputId": "a810526e-c901-44c3-a669-0d4240ddf3ce",
        "colab": {
          "base_uri": "https://localhost:8080/",
          "height": 107
        }
      },
      "source": [
        "# 7)Taking input\n",
        "\n",
        "def inPutCat():\n",
        "    a=input()\n",
        "    b=input()\n",
        "    c=input()\n",
        "    print(a,b,c) ## comma is used as it automatically separates the variables by a space. \n",
        "    ## + can also be used to concatenate but it would require manual spaces to print the words with spaces between them.\n",
        "\n",
        "def main():\n",
        "    testcases=int(input())\n",
        "    while(testcases>0):\n",
        "        inPutCat() #the function that gets things done\n",
        "        testcases-=1    \n",
        "\n",
        "if __name__=='__main__':\n",
        "    main()"
      ],
      "execution_count": null,
      "outputs": [
        {
          "output_type": "stream",
          "text": [
            "1\n",
            "11\n",
            "22\n",
            "33\n",
            "11 22 33\n"
          ],
          "name": "stdout"
        }
      ]
    },
    {
      "cell_type": "code",
      "metadata": {
        "id": "GMJVNfJ_sW9k",
        "outputId": "97bbed8c-0e10-49ec-bb8d-577380976d97",
        "colab": {
          "base_uri": "https://localhost:8080/",
          "height": 71
        }
      },
      "source": [
        "# 8)Split the input\n",
        "\n",
        "def inPutS():\n",
        "    a=input() ## input in a single line()\n",
        "    s,i,f = a.split(\" \")   ## split the a into three parts: string, integer, and f. \n",
        "    b= int(i) + float(f)   ##type cast i to int, f to float. Add i with f. Typecast the result to string\n",
        "    print(s,b)\n",
        "\n",
        "def main():\n",
        "    testcases=int(input()) \n",
        "    while(testcases>0):\n",
        "        inPutS() #the function that gets things done\n",
        "        testcases-=1\n",
        "        \n",
        "if __name__=='__main__':\n",
        "    main()\n"
      ],
      "execution_count": null,
      "outputs": [
        {
          "output_type": "stream",
          "text": [
            "1\n",
            "Ranidha 2 2.4\n",
            "Ranidha 4.4\n"
          ],
          "name": "stdout"
        }
      ]
    },
    {
      "cell_type": "code",
      "metadata": {
        "id": "ZgJnarRWtOQy",
        "outputId": "aae41891-bf6d-4fc3-962c-f8915f92e8d7",
        "colab": {
          "base_uri": "https://localhost:8080/",
          "height": 35
        }
      },
      "source": [
        "# 9)single line and multi line Comments in python\n",
        "\n",
        "def print_func():\n",
        "    #print (\"Geeks Classes\")\n",
        "    print (\"Geeks For Geeks\")\n",
        "    ''' print (\"Geeks Quiz\")\n",
        "    print (\"Geeks\")\n",
        "    print (\"Geeks For\") '''\n",
        "\n",
        "def main():\n",
        "    print_func()\n",
        "        \n",
        "if __name__ == '__main__':\n",
        "    main()"
      ],
      "execution_count": null,
      "outputs": [
        {
          "output_type": "stream",
          "text": [
            "Geeks For Geeks\n"
          ],
          "name": "stdout"
        }
      ]
    },
    {
      "cell_type": "code",
      "metadata": {
        "id": "q71NHJyctksS",
        "outputId": "bfe5a662-86cf-41d8-ce23-ccae4f09186c",
        "colab": {
          "base_uri": "https://localhost:8080/",
          "height": 161
        }
      },
      "source": [
        "# 10)Operators in python\n",
        "\n",
        "# Python Code to perform mathematical operation on x and y\n",
        "def do_operation(x, y):\n",
        "    print(x+y)\n",
        "    print(x-y)\n",
        "    print(x*y)\n",
        "    print(x/y)\n",
        "    print(x ** y)\n",
        "    print(int(x/y))\n",
        "\n",
        "def main():\n",
        "    testcase = int(input())\n",
        "    while(testcase > 0):\n",
        "        input1 = input().split()\n",
        "        x = int(input1[0])\n",
        "        y = int(input1[1])\n",
        "        do_operation(x, y)\n",
        "        testcase -= 1\n",
        "        \n",
        "if __name__ == '__main__':\n",
        "    main()"
      ],
      "execution_count": null,
      "outputs": [
        {
          "output_type": "stream",
          "text": [
            "1\n",
            "20 2\n",
            "22\n",
            "18\n",
            "40\n",
            "10.0\n",
            "400\n",
            "10\n"
          ],
          "name": "stdout"
        }
      ]
    },
    {
      "cell_type": "code",
      "metadata": {
        "id": "gjJHj1nnYLpP",
        "outputId": "298fac45-60e2-4f49-d964-6ca27f215609",
        "colab": {
          "base_uri": "https://localhost:8080/",
          "height": 125
        }
      },
      "source": [
        "# 11)Comparsion operator\n",
        "\n",
        "def comparison(a,b):\n",
        "    print(a==b)\n",
        "    print(a>b)\n",
        "    print(a!=b)\n",
        "    print(a<b) \n",
        "\n",
        "def main():\n",
        "    a=int(input())\n",
        "    b=int(input())\n",
        "    comparison(a,b)\n",
        "        \n",
        "if __name__=='__main__':\n",
        "    main()\n"
      ],
      "execution_count": 7,
      "outputs": [
        {
          "output_type": "stream",
          "text": [
            "2\n",
            "5\n",
            "False\n",
            "False\n",
            "True\n",
            "True\n"
          ],
          "name": "stdout"
        }
      ]
    },
    {
      "cell_type": "code",
      "metadata": {
        "id": "vlab7aSdcNdO",
        "outputId": "4e59368a-7f8b-4198-e0b0-63628d09c2a0",
        "colab": {
          "base_uri": "https://localhost:8080/",
          "height": 107
        }
      },
      "source": [
        "# 12)Logical operators\n",
        "\n",
        "def logical(a,b):\n",
        "    print(a and b) \n",
        "    print(a or b) \n",
        "    print(not a)\n",
        "\n",
        "def main():\n",
        "    a=int(input())\n",
        "    b=int(input())\n",
        "    logical(a,b)   \n",
        "\n",
        "if __name__=='__main__':\n",
        "    main()\n"
      ],
      "execution_count": 10,
      "outputs": [
        {
          "output_type": "stream",
          "text": [
            "2\n",
            "7\n",
            "7\n",
            "2\n",
            "False\n"
          ],
          "name": "stdout"
        }
      ]
    }
  ]
}