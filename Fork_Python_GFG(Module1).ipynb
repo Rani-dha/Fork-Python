{
  "nbformat": 4,
  "nbformat_minor": 0,
  "metadata": {
    "colab": {
      "name": "Fork-Python-GFG(Module1).ipynb",
      "provenance": [],
      "authorship_tag": "ABX9TyOkQ69KY3TfK3qHATizoYTb",
      "include_colab_link": true
    },
    "kernelspec": {
      "name": "python3",
      "display_name": "Python 3"
    }
  },
  "cells": [
    {
      "cell_type": "markdown",
      "metadata": {
        "id": "view-in-github",
        "colab_type": "text"
      },
      "source": [
        "<a href=\"https://colab.research.google.com/github/Rani-dha/Fork-Python/blob/master/Fork_Python_GFG(Module1).ipynb\" target=\"_parent\"><img src=\"https://colab.research.google.com/assets/colab-badge.svg\" alt=\"Open In Colab\"/></a>"
      ]
    },
    {
      "cell_type": "code",
      "metadata": {
        "id": "Q2gsCRs1jeaZ",
        "outputId": "659ba8a0-39af-4531-a38d-2c61c06a6c00",
        "colab": {
          "base_uri": "https://localhost:8080/",
          "height": 35
        }
      },
      "source": [
        "# Module1 - Python Basics\n",
        "# 1)Start Coding - Python\n",
        "\n",
        "def print_fun():\n",
        "    print(\"Hello World\")\n",
        "   \n",
        "def main():\n",
        "    print_fun()\n",
        "\n",
        "if __name__ == '__main__':\n",
        "    main()"
      ],
      "execution_count": 4,
      "outputs": [
        {
          "output_type": "stream",
          "text": [
            "Hello World\n"
          ],
          "name": "stdout"
        }
      ]
    },
    {
      "cell_type": "code",
      "metadata": {
        "id": "9C_CaieClm5a",
        "outputId": "b58806f6-67c3-4b10-d8e7-064c27ea6d01",
        "colab": {
          "base_uri": "https://localhost:8080/",
          "height": 35
        }
      },
      "source": [
        "# 2)Space Seperated - Python\n",
        "\n",
        "def print_fun():\n",
        "   print(\"Geeks\", \"For\", \"Geeks\",sep=' ')\n",
        "\n",
        "def main():\n",
        "    print_fun()\n",
        "\n",
        "if __name__ == '__main__':\n",
        "    main()\n"
      ],
      "execution_count": 6,
      "outputs": [
        {
          "output_type": "stream",
          "text": [
            "Geeks For Geeks\n"
          ],
          "name": "stdout"
        }
      ]
    },
    {
      "cell_type": "code",
      "metadata": {
        "id": "mTc5RCm-mI8K",
        "outputId": "d9b3cf76-348c-41f1-cfbf-a99ee6747624",
        "colab": {
          "base_uri": "https://localhost:8080/",
          "height": 35
        }
      },
      "source": [
        "# 3)sep and end in Print()\n",
        "\n",
        "def print_func(string1, string2):\n",
        "    print (string1, string2, string1, sep = '$', end = '$')\n",
        "\n",
        "def main():\n",
        "    string1 = \"Geeks\"\n",
        "    string2 = \"For\"\n",
        "    print_func(string1, string2)\n",
        "  \n",
        "if __name__ == \"__main__\":\n",
        "    main()\n"
      ],
      "execution_count": 9,
      "outputs": [
        {
          "output_type": "stream",
          "text": [
            "Geeks$For$Geeks$"
          ],
          "name": "stdout"
        }
      ]
    },
    {
      "cell_type": "code",
      "metadata": {
        "id": "8PpC-_JzoqM5",
        "outputId": "79d0914e-e8da-4724-e7eb-eb2ab129cf2a",
        "colab": {
          "base_uri": "https://localhost:8080/",
          "height": 89
        }
      },
      "source": [
        "# 4)Repetitive Printing - Python\n",
        "# Function to print given string 'x' times\n",
        "def print_fun(string, x):\n",
        "    print(string*x)\n",
        "\n",
        "def main():\n",
        "    testcases = int(input())\n",
        "    while(testcases > 0):\n",
        "        string = input()\n",
        "        x = int(input())\n",
        "        print_fun(string, x)\n",
        "        testcases -= 1\n",
        "\n",
        "if __name__ == '__main__':\n",
        "    main()\n",
        "    "
      ],
      "execution_count": 13,
      "outputs": [
        {
          "output_type": "stream",
          "text": [
            "1\n",
            "Programmer\n",
            "10\n",
            "ProgrammerProgrammerProgrammerProgrammerProgrammerProgrammerProgrammerProgrammerProgrammerProgrammer\n"
          ],
          "name": "stdout"
        }
      ]
    },
    {
      "cell_type": "code",
      "metadata": {
        "id": "A7LOWKWopl5J",
        "outputId": "a65620cd-408a-45ce-d68f-d9fb483bb232",
        "colab": {
          "base_uri": "https://localhost:8080/",
          "height": 89
        }
      },
      "source": [
        "# 5)Concatenating Strings - Python\n",
        "\n",
        "# Function to concatenate given two strings and print\n",
        "def print_fun(string1, string2):\n",
        "    print (string1+string2)\n",
        "\n",
        "def main():\n",
        "    testcases = int(input())\n",
        "    \n",
        "    while(testcases > 0):\n",
        "        string1 = input()\n",
        "        string2 = input()\n",
        "        print_fun(string1, string2)\n",
        "        testcases -= 1\n",
        "\n",
        "if __name__ == '__main__':\n",
        "    main()\n",
        "    \n"
      ],
      "execution_count": 1,
      "outputs": [
        {
          "output_type": "stream",
          "text": [
            "1\n",
            "Dharani \n",
            "Thangavel\n",
            "Dharani Thangavel\n"
          ],
          "name": "stdout"
        }
      ]
    },
    {
      "cell_type": "code",
      "metadata": {
        "id": "ralylA1DqT7S",
        "outputId": "5a4d528c-4c45-4eac-94ed-98169f376e73",
        "colab": {
          "base_uri": "https://localhost:8080/",
          "height": 179
        }
      },
      "source": [
        "# 6)Taking input and typecasting\n",
        "def inPut():\n",
        "    a = int(input()) ## a is integer\n",
        "    b = input() ##b is string\n",
        "    c = float(input()) ## c is float\n",
        "    d = bool(input()) ## d is a boolean\n",
        "    \n",
        "    print(a, type(a))\n",
        "    print(b, type(b))\n",
        "    print(c, type(c))\n",
        "    print(d, type(d))\n",
        "\n",
        "def main():\n",
        "    testcases=int(input()) \n",
        "    while(testcases>0):\n",
        "        inPut() #the function that gets things done\n",
        "        testcases-=1\n",
        "        \n",
        "if __name__=='__main__':\n",
        "    main()\n"
      ],
      "execution_count": 2,
      "outputs": [
        {
          "output_type": "stream",
          "text": [
            "1\n",
            "11\n",
            "Siva\n",
            "11.11\n",
            "1\n",
            "11 <class 'int'>\n",
            "Siva <class 'str'>\n",
            "11.11 <class 'float'>\n",
            "True <class 'bool'>\n"
          ],
          "name": "stdout"
        }
      ]
    }
  ]
}