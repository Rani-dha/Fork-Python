{
  "nbformat": 4,
  "nbformat_minor": 0,
  "metadata": {
    "colab": {
      "name": "Fork-Python-GFG(Module4).ipynb",
      "provenance": [],
      "authorship_tag": "ABX9TyM55KRQQu32ta5uoRK+UngU",
      "include_colab_link": true
    },
    "kernelspec": {
      "name": "python3",
      "display_name": "Python 3"
    }
  },
  "cells": [
    {
      "cell_type": "markdown",
      "metadata": {
        "id": "view-in-github",
        "colab_type": "text"
      },
      "source": [
        "<a href=\"https://colab.research.google.com/github/Rani-dha/Python/blob/master/Fork_Python_GFG(Module4).ipynb\" target=\"_parent\"><img src=\"https://colab.research.google.com/assets/colab-badge.svg\" alt=\"Open In Colab\"/></a>"
      ]
    },
    {
      "cell_type": "code",
      "metadata": {
        "id": "i8zFoPx4AQo-"
      },
      "source": [
        "# Module4 Functions\n",
        "''' Topics covered:\n",
        "       * Using functions in Python\n",
        "       * Objects and Classes\n",
        "       * Constructor functions '''"
      ],
      "execution_count": null,
      "outputs": []
    }
  ]
}